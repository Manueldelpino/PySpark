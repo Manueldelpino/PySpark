{
 "cells": [
  {
   "cell_type": "markdown",
   "metadata": {},
   "source": [
    "# Examen ETL: SPARK y NBA dataset"
   ]
  },
  {
   "cell_type": "markdown",
   "metadata": {},
   "source": [
    "# MANUEL DEL PINO GUERRERO - MASTER DATA SCIENCE - E.T.L."
   ]
  },
  {
   "cell_type": "markdown",
   "metadata": {},
   "source": [
    "Se podrá utilizar toda la información que se encuentra en el campus. \n",
    "\n",
    "El fichero de datos sobre el que se trabajará es el de partidosLigaNBA.csv.\n",
    "\n",
    "A cada una de las preguntas hay que responder explicando brevemente que se pretende hacer antes de lanzar el código.\n",
    "\n",
    "Al documento lo llamareís con vuestro nombre y apellido. Debeís enviarlo a mi correo de CUNEF antes del final del examen.\n",
    "\n",
    "El lenguaje para trabajar con Spark podrá ser python o R indistintamente."
   ]
  },
  {
   "cell_type": "markdown",
   "metadata": {},
   "source": [
    "## Primera pregunta: Describe brevemente que diferencia el persists, cache y collect en spark. Explica brevemente casos en los que es interesante su aplicación"
   ]
  },
  {
   "cell_type": "markdown",
   "metadata": {},
   "source": [
    "Persist: Persist y caché son muy parecidos. Se trata en concreto de una transformación. Estas funciones son interesantes cuando vas a usar la tabla resultante del persist varias veces, ya que si bien es más lento de ejecutar, una vez se ha ejecutado ya la tienes para posteriores usos y te ahorrarías repetir pasos. La diferencia entre persist y caché está en que caché lo guarda en la RAM y será más rápido. Persist puedes elegir si ram o disco duro.\n",
    "\n",
    "Collect: En este caso Collect es una acción, por lo que será más rápido de ejecutarse pero al no crear un nuevo objeto, se tendrá que volver a ejecutarse cada vez, por lo que a la larga el proceso será más lento.\n",
    "\n",
    "Por lo tanto vamos a usar \"Persist/Caché\" para situaciones en las que vayamos a utilizar los resultados varias veces y \"Collect\" para casos 'puntuales'."
   ]
  },
  {
   "cell_type": "markdown",
   "metadata": {},
   "source": [
    "## Segunda pregunta: Explica brevemente los pasos a seguir para realizar la carga de un conjunto de datos (pasos que se siguieron en la práctica con datos de logs)"
   ]
  },
  {
   "cell_type": "markdown",
   "metadata": {},
   "source": [
    "1) Dependiendo del tipo de datos o como se nos presenta la fuente del dataset, tendremos que definir la función a emplear (ya sea en formato csv o desde una url por ejemplo)\n",
    "\n",
    "2) Establecer la correlación con la fuente.\n",
    "\n",
    "3) Extraer el dato (txt, csv...).\n",
    "\n",
    "4) Cargar en Spark, Definir el Spark Context y cargar en Sc.\n",
    "\n",
    "5) Comprobar lo que se ha cargado haciendo un take(acción) y muestrear.\n",
    "\n",
    "6) Analizar el formato de los datos. Los delimitadores que tiene etc."
   ]
  },
  {
   "cell_type": "markdown",
   "metadata": {},
   "source": [
    "## Tercera Pregunta: Índica un tipo de problema que puede empeorar los datos. (pe. Que no exista un representante del CDO en todas las áreas de negocio), pon algún ejemplo específico (pe. Datos duplicados) y cómo lo tratarías con técnicas de data cleaning."
   ]
  },
  {
   "cell_type": "markdown",
   "metadata": {},
   "source": [
    "Por ejemplo diría que la colecta de los datos no siga siempre el mismo formato, o que no siempre incluya las mismas variables.\n",
    "La falta de datos en ciertas variables de cada observación implica un valor NA. Si esa columna fuera fundamental para nuestro trabajo podría invalidar toda el análisis exploratorio del mismo. Existen distintas técnicas que pueden hacer que no tengamos que eliminar la observación. Por ejemplo, si el número de observaciones con NAs fuera reducido, podríamos hacer una labor de investigación(si fuera posible) para completar el dato faltante. Por ejemplo, en un dataset de características de vehículos, falta el consumo de 2 observaciones. En este caso podríamos buscar la ficha técnica de estos vehículos y completar los datos de consumo faltantes. En el caso de que fueran numerosas observaciones, podríamos recurrir a técnicas de predicción. Por ejemplo, si el dataset es lo suficientemente grande y tenemos los suficientes datos, podríamos tratar de completar los NA's haciendo predicciones de dichas observaciones en base al resto de variables. O por ejmplo también poodríamos emplear la técnica de los vecinos más cercanos."
   ]
  },
  {
   "cell_type": "markdown",
   "metadata": {},
   "source": [
    "## Cuarta tarea: Inicializar spark context y cargar los datos desde el fichero."
   ]
  },
  {
   "cell_type": "code",
   "execution_count": 1,
   "metadata": {
    "collapsed": true
   },
   "outputs": [],
   "source": [
    "import re\n",
    "import datetime\n",
    "import os\n",
    "import pandas as pd\n",
    "import datetime as datetime"
   ]
  },
  {
   "cell_type": "code",
   "execution_count": 2,
   "metadata": {
    "collapsed": true
   },
   "outputs": [],
   "source": [
    "from pyspark import SparkContext\n",
    "from pyspark.sql import SQLContext\n",
    "from pyspark.sql import Row"
   ]
  },
  {
   "cell_type": "markdown",
   "metadata": {},
   "source": [
    "Vamos a iniciar el SparkContext"
   ]
  },
  {
   "cell_type": "code",
   "execution_count": 3,
   "metadata": {
    "collapsed": false
   },
   "outputs": [],
   "source": [
    "sc=SparkContext('local','Simple App')\n",
    "sqlContext = SQLContext(sc)"
   ]
  },
  {
   "cell_type": "markdown",
   "metadata": {},
   "source": [
    "·Cargamos el fichero original con la función textFile de Spark Context\n",
    "·Mapeamos (función map) indicando que el separador es ':'\n",
    "·Creamos header y le decimos que sea la primera línea (first) (encabezados)"
   ]
  },
  {
   "cell_type": "markdown",
   "metadata": {},
   "source": [
    "Trás una observación general y previa de los datos en su formato csv, he podido comprobar que existen algunas líneas de texto, concretamente que hace referencia al comienzo de los Playoffs y que por tanto van a hacer que el dataset no sea estable y compatible en formato fecha desde este punto por lo que habrá que realizar una transformación en el mismo para continuar con los ejercicios."
   ]
  },
  {
   "cell_type": "code",
   "execution_count": 4,
   "metadata": {
    "collapsed": false
   },
   "outputs": [],
   "source": [
    "raw_data = sc.textFile(\"partidosLigaNBA.csv\")\n",
    "data_clean = raw_data.map(lambda x: x.split(\":\")).filter(lambda x:'Playoffs' not in x[0]).map(lambda x: x)\n",
    "header = data_clean.first()\n",
    "csv_data_1 = data_clean.filter(lambda x: x != header)"
   ]
  },
  {
   "cell_type": "markdown",
   "metadata": {},
   "source": [
    "Le damos formato a cada una de las columnas. Las más 'especiales' en este dataset son la de Date y Start_ET:"
   ]
  },
  {
   "cell_type": "code",
   "execution_count": null,
   "metadata": {
    "collapsed": true
   },
   "outputs": [],
   "source": []
  },
  {
   "cell_type": "code",
   "execution_count": 5,
   "metadata": {
    "collapsed": true
   },
   "outputs": [],
   "source": [
    "DatosNBA = csv_data_1.map(lambda x: Row(Date = datetime.datetime.strptime((x[0]),'%a, %b %d, %Y').strftime('%m/%d/%Y'),\n",
    "                                               Start_ET= (x[1]+' : '+x[2]),\n",
    "                                               Visitor= x[3],\n",
    "                                               Pts_Visitor = int(x[4]), \n",
    "                                               Home = x[5],\n",
    "                                               Pts_Local = int(x[6])))"
   ]
  },
  {
   "cell_type": "markdown",
   "metadata": {},
   "source": [
    "\"Resgistramos\" interactions, que será el nombre de la tabla SQL"
   ]
  },
  {
   "cell_type": "code",
   "execution_count": 6,
   "metadata": {
    "collapsed": false
   },
   "outputs": [],
   "source": [
    "interactions_df = sqlContext.createDataFrame(DatosNBA)\n",
    "interactions_df.registerTempTable(\"interactions\")"
   ]
  },
  {
   "cell_type": "markdown",
   "metadata": {},
   "source": [
    "Comprobamos que el dataset se ha cargado correctamente con .show"
   ]
  },
  {
   "cell_type": "code",
   "execution_count": 8,
   "metadata": {
    "collapsed": false
   },
   "outputs": [
    {
     "name": "stdout",
     "output_type": "stream",
     "text": [
      "+----------+--------------------+---------+-----------+-----------+--------------------+\n",
      "|      Date|                Home|Pts_Local|Pts_Visitor|   Start_ET|             Visitor|\n",
      "+----------+--------------------+---------+-----------+-----------+--------------------+\n",
      "|10/30/2007|Golden State Warr...|       96|        117|\"7 : 30 pm\"|           Utah Jazz|\n",
      "|10/30/2007|  Los Angeles Lakers|       93|         95|\"7 : 30 pm\"|     Houston Rockets|\n",
      "|10/30/2007|   San Antonio Spurs|      106|         97|\"7 : 00 pm\"|Portland Trail Bl...|\n",
      "|10/31/2007| Cleveland Cavaliers|       74|         92|\"8 : 00 pm\"|    Dallas Mavericks|\n",
      "|10/31/2007|      Denver Nuggets|      120|        103|\"8 : 30 pm\"| Seattle SuperSonics|\n",
      "|10/31/2007|      Indiana Pacers|      119|        110|\"7 : 00 pm\"|  Washington Wizards|\n",
      "|10/31/2007|   Memphis Grizzlies|      101|        104|\"7 : 00 pm\"|   San Antonio Spurs|\n",
      "|10/31/2007|     New Jersey Nets|      112|        103|\"7 : 30 pm\"|       Chicago Bulls|\n",
      "|10/31/2007| New Orleans Hornets|      104|         90|\"7 : 00 pm\"|    Sacramento Kings|\n",
      "|10/31/2007|       Orlando Magic|      102|         83|\"7 : 00 pm\"|     Milwaukee Bucks|\n",
      "|10/31/2007|     Toronto Raptors|      106|         97|\"7 : 00 pm\"|  Philadelphia 76ers|\n",
      "|11/01/2007|          Miami Heat|       80|         91|\"8 : 00 pm\"|     Detroit Pistons|\n",
      "|11/01/2007| Seattle SuperSonics|       99|        106|\"7 : 30 pm\"|        Phoenix Suns|\n",
      "|11/01/2007|           Utah Jazz|       95|        106|\"7 : 00 pm\"|     Houston Rockets|\n",
      "|11/02/2007|       Atlanta Hawks|      101|         94|\"7 : 30 pm\"|    Dallas Mavericks|\n",
      "|11/02/2007|      Boston Celtics|      103|         83|\"8 : 00 pm\"|  Washington Wizards|\n",
      "|11/02/2007|   Charlotte Bobcats|      102|         99|\"7 : 00 pm\"|     Milwaukee Bucks|\n",
      "|11/02/2007|       Chicago Bulls|       85|         96|\"7 : 30 pm\"|  Philadelphia 76ers|\n",
      "|11/02/2007| Cleveland Cavaliers|      110|        106|\"7 : 30 pm\"|     New York Knicks|\n",
      "|11/02/2007|      Indiana Pacers|       87|         85|\"7 : 00 pm\"|          Miami Heat|\n",
      "+----------+--------------------+---------+-----------+-----------+--------------------+\n",
      "only showing top 20 rows\n",
      "\n"
     ]
    }
   ],
   "source": [
    "interactions_df.show()"
   ]
  },
  {
   "cell_type": "markdown",
   "metadata": {},
   "source": [
    "## Quinta tarea: Calcular la media de la diferencia de puntos por año"
   ]
  },
  {
   "cell_type": "markdown",
   "metadata": {},
   "source": [
    "En primer lugar, creamos una columna con la diferencia de puntos por partido. Acto seguido creamos otra columna que será el valor absoluto de la anterior."
   ]
  },
  {
   "cell_type": "code",
   "execution_count": 9,
   "metadata": {
    "collapsed": false
   },
   "outputs": [
    {
     "name": "stdout",
     "output_type": "stream",
     "text": [
      "+----------+--------------------+---------+-----------+-----------+--------------------+---+-------+\n",
      "|      Date|                Home|Pts_Local|Pts_Visitor|   Start_ET|             Visitor|dif|dif_abs|\n",
      "+----------+--------------------+---------+-----------+-----------+--------------------+---+-------+\n",
      "|10/30/2007|Golden State Warr...|       96|        117|\"7 : 30 pm\"|           Utah Jazz|-21|     21|\n",
      "|10/30/2007|  Los Angeles Lakers|       93|         95|\"7 : 30 pm\"|     Houston Rockets| -2|      2|\n",
      "|10/30/2007|   San Antonio Spurs|      106|         97|\"7 : 00 pm\"|Portland Trail Bl...|  9|      9|\n",
      "|10/31/2007| Cleveland Cavaliers|       74|         92|\"8 : 00 pm\"|    Dallas Mavericks|-18|     18|\n",
      "|10/31/2007|      Denver Nuggets|      120|        103|\"8 : 30 pm\"| Seattle SuperSonics| 17|     17|\n",
      "|10/31/2007|      Indiana Pacers|      119|        110|\"7 : 00 pm\"|  Washington Wizards|  9|      9|\n",
      "|10/31/2007|   Memphis Grizzlies|      101|        104|\"7 : 00 pm\"|   San Antonio Spurs| -3|      3|\n",
      "|10/31/2007|     New Jersey Nets|      112|        103|\"7 : 30 pm\"|       Chicago Bulls|  9|      9|\n",
      "|10/31/2007| New Orleans Hornets|      104|         90|\"7 : 00 pm\"|    Sacramento Kings| 14|     14|\n",
      "|10/31/2007|       Orlando Magic|      102|         83|\"7 : 00 pm\"|     Milwaukee Bucks| 19|     19|\n",
      "|10/31/2007|     Toronto Raptors|      106|         97|\"7 : 00 pm\"|  Philadelphia 76ers|  9|      9|\n",
      "|11/01/2007|          Miami Heat|       80|         91|\"8 : 00 pm\"|     Detroit Pistons|-11|     11|\n",
      "|11/01/2007| Seattle SuperSonics|       99|        106|\"7 : 30 pm\"|        Phoenix Suns| -7|      7|\n",
      "|11/01/2007|           Utah Jazz|       95|        106|\"7 : 00 pm\"|     Houston Rockets|-11|     11|\n",
      "|11/02/2007|       Atlanta Hawks|      101|         94|\"7 : 30 pm\"|    Dallas Mavericks|  7|      7|\n",
      "|11/02/2007|      Boston Celtics|      103|         83|\"8 : 00 pm\"|  Washington Wizards| 20|     20|\n",
      "|11/02/2007|   Charlotte Bobcats|      102|         99|\"7 : 00 pm\"|     Milwaukee Bucks|  3|      3|\n",
      "|11/02/2007|       Chicago Bulls|       85|         96|\"7 : 30 pm\"|  Philadelphia 76ers|-11|     11|\n",
      "|11/02/2007| Cleveland Cavaliers|      110|        106|\"7 : 30 pm\"|     New York Knicks|  4|      4|\n",
      "|11/02/2007|      Indiana Pacers|       87|         85|\"7 : 00 pm\"|          Miami Heat|  2|      2|\n",
      "+----------+--------------------+---------+-----------+-----------+--------------------+---+-------+\n",
      "only showing top 20 rows\n",
      "\n"
     ]
    }
   ],
   "source": [
    "from  pyspark.sql.functions import abs\n",
    "\n",
    "interactions_df=interactions_df.withColumn('dif', interactions_df.Pts_Local - interactions_df.Pts_Visitor)\n",
    "interactions_df = interactions_df.withColumn('dif_abs',abs(interactions_df.dif))\n",
    "interactions_df.show()"
   ]
  },
  {
   "cell_type": "markdown",
   "metadata": {},
   "source": [
    "A continuación importamos sql.functions para ejecutar .split y crear una columna que sea el año a partir del campo fecha."
   ]
  },
  {
   "cell_type": "code",
   "execution_count": 10,
   "metadata": {
    "collapsed": true
   },
   "outputs": [],
   "source": [
    "import pyspark.sql.functions as psf\n",
    "split_date = psf.split(interactions_df['Date'], '/')     \n",
    "interactions_df= interactions_df.withColumn('Year', split_date.getItem(2))"
   ]
  },
  {
   "cell_type": "code",
   "execution_count": 11,
   "metadata": {
    "collapsed": false
   },
   "outputs": [
    {
     "name": "stdout",
     "output_type": "stream",
     "text": [
      "+----------+--------------------+---------+-----------+-----------+--------------------+---+-------+----+\n",
      "|      Date|                Home|Pts_Local|Pts_Visitor|   Start_ET|             Visitor|dif|dif_abs|Year|\n",
      "+----------+--------------------+---------+-----------+-----------+--------------------+---+-------+----+\n",
      "|10/30/2007|Golden State Warr...|       96|        117|\"7 : 30 pm\"|           Utah Jazz|-21|     21|2007|\n",
      "|10/30/2007|  Los Angeles Lakers|       93|         95|\"7 : 30 pm\"|     Houston Rockets| -2|      2|2007|\n",
      "|10/30/2007|   San Antonio Spurs|      106|         97|\"7 : 00 pm\"|Portland Trail Bl...|  9|      9|2007|\n",
      "|10/31/2007| Cleveland Cavaliers|       74|         92|\"8 : 00 pm\"|    Dallas Mavericks|-18|     18|2007|\n",
      "|10/31/2007|      Denver Nuggets|      120|        103|\"8 : 30 pm\"| Seattle SuperSonics| 17|     17|2007|\n",
      "|10/31/2007|      Indiana Pacers|      119|        110|\"7 : 00 pm\"|  Washington Wizards|  9|      9|2007|\n",
      "|10/31/2007|   Memphis Grizzlies|      101|        104|\"7 : 00 pm\"|   San Antonio Spurs| -3|      3|2007|\n",
      "|10/31/2007|     New Jersey Nets|      112|        103|\"7 : 30 pm\"|       Chicago Bulls|  9|      9|2007|\n",
      "|10/31/2007| New Orleans Hornets|      104|         90|\"7 : 00 pm\"|    Sacramento Kings| 14|     14|2007|\n",
      "|10/31/2007|       Orlando Magic|      102|         83|\"7 : 00 pm\"|     Milwaukee Bucks| 19|     19|2007|\n",
      "|10/31/2007|     Toronto Raptors|      106|         97|\"7 : 00 pm\"|  Philadelphia 76ers|  9|      9|2007|\n",
      "|11/01/2007|          Miami Heat|       80|         91|\"8 : 00 pm\"|     Detroit Pistons|-11|     11|2007|\n",
      "|11/01/2007| Seattle SuperSonics|       99|        106|\"7 : 30 pm\"|        Phoenix Suns| -7|      7|2007|\n",
      "|11/01/2007|           Utah Jazz|       95|        106|\"7 : 00 pm\"|     Houston Rockets|-11|     11|2007|\n",
      "|11/02/2007|       Atlanta Hawks|      101|         94|\"7 : 30 pm\"|    Dallas Mavericks|  7|      7|2007|\n",
      "|11/02/2007|      Boston Celtics|      103|         83|\"8 : 00 pm\"|  Washington Wizards| 20|     20|2007|\n",
      "|11/02/2007|   Charlotte Bobcats|      102|         99|\"7 : 00 pm\"|     Milwaukee Bucks|  3|      3|2007|\n",
      "|11/02/2007|       Chicago Bulls|       85|         96|\"7 : 30 pm\"|  Philadelphia 76ers|-11|     11|2007|\n",
      "|11/02/2007| Cleveland Cavaliers|      110|        106|\"7 : 30 pm\"|     New York Knicks|  4|      4|2007|\n",
      "|11/02/2007|      Indiana Pacers|       87|         85|\"7 : 00 pm\"|          Miami Heat|  2|      2|2007|\n",
      "+----------+--------------------+---------+-----------+-----------+--------------------+---+-------+----+\n",
      "only showing top 20 rows\n",
      "\n"
     ]
    }
   ],
   "source": [
    "interactions_df.show()"
   ]
  },
  {
   "cell_type": "markdown",
   "metadata": {},
   "source": [
    "Y calculamos la diferencia media por partido cadapor año:"
   ]
  },
  {
   "cell_type": "code",
   "execution_count": 12,
   "metadata": {
    "collapsed": false
   },
   "outputs": [
    {
     "name": "stdout",
     "output_type": "stream",
     "text": [
      "+----+------------------+\n",
      "|Year|      avg(dif_abs)|\n",
      "+----+------------------+\n",
      "|2016|11.550637659414853|\n",
      "|2012|10.845318860244234|\n",
      "|2017|11.422166874221668|\n",
      "|2014|  10.9047976011994|\n",
      "|2013|11.071752265861027|\n",
      "|2009|11.090425531914894|\n",
      "|2011|10.661016949152541|\n",
      "|2008|11.543543543543544|\n",
      "|2007|11.096491228070175|\n",
      "|2015|11.159969673995452|\n",
      "|2010| 10.86903860711582|\n",
      "+----+------------------+\n",
      "\n"
     ]
    }
   ],
   "source": [
    "media1 = interactions_df.groupBy('Year').avg('dif_abs')\n",
    "media1.show()"
   ]
  },
  {
   "cell_type": "markdown",
   "metadata": {
    "collapsed": true
   },
   "source": [
    "## Sexta tarea: ¿Han judado todos los equipos el mismo número de partidos? ¿ Si es qué no a que puede deberse?"
   ]
  },
  {
   "cell_type": "markdown",
   "metadata": {},
   "source": [
    "Creamos una nueva tabla ejecutando una query que nos saque el count de veces que aparece cada equipo como local:"
   ]
  },
  {
   "cell_type": "code",
   "execution_count": 13,
   "metadata": {
    "collapsed": false
   },
   "outputs": [
    {
     "name": "stdout",
     "output_type": "stream",
     "text": [
      "+--------------------+--------------+\n",
      "|                Home|Partidos_Local|\n",
      "+--------------------+--------------+\n",
      "|        Phoenix Suns|           412|\n",
      "|      Boston Celtics|           467|\n",
      "|    Dallas Mavericks|           431|\n",
      "|New Orleans Pelicans|           166|\n",
      "|       Brooklyn Nets|           217|\n",
      "|     New York Knicks|           412|\n",
      "| New Orleans Hornets|           250|\n",
      "|   Memphis Grizzlies|           433|\n",
      "|Minnesota Timberw...|           402|\n",
      "|  Los Angeles Lakers|           450|\n",
      "|Golden State Warr...|           445|\n",
      "|       Orlando Magic|           431|\n",
      "|   Charlotte Bobcats|           283|\n",
      "|Los Angeles Clippers|           431|\n",
      "|     Detroit Pistons|           415|\n",
      "|       Chicago Bulls|           436|\n",
      "|     Milwaukee Bucks|           413|\n",
      "| Cleveland Cavaliers|           449|\n",
      "|      Indiana Pacers|           434|\n",
      "|  Washington Wizards|           421|\n",
      "+--------------------+--------------+\n",
      "only showing top 20 rows\n",
      "\n"
     ]
    }
   ],
   "source": [
    "query2 = \"SELECT Home, COUNT(Home) as Partidos_Local FROM interactions GROUP BY Home\"\n",
    "NPartidosLoc = sqlContext.sql(query2)\n",
    "NPartidosLoc.show()"
   ]
  },
  {
   "cell_type": "markdown",
   "metadata": {},
   "source": [
    "Repetimos el proceso con los Visitor:"
   ]
  },
  {
   "cell_type": "code",
   "execution_count": 14,
   "metadata": {
    "collapsed": false
   },
   "outputs": [
    {
     "name": "stdout",
     "output_type": "stream",
     "text": [
      "+--------------------+----------------+\n",
      "|             Visitor|Partidos_Visitor|\n",
      "+--------------------+----------------+\n",
      "|        Phoenix Suns|             413|\n",
      "|      Boston Celtics|             463|\n",
      "|    Dallas Mavericks|             436|\n",
      "|New Orleans Pelicans|             166|\n",
      "|       Brooklyn Nets|             218|\n",
      "|     New York Knicks|             413|\n",
      "| New Orleans Hornets|             249|\n",
      "|Minnesota Timberw...|             402|\n",
      "|   Memphis Grizzlies|             434|\n",
      "|  Los Angeles Lakers|             447|\n",
      "|Golden State Warr...|             440|\n",
      "|       Orlando Magic|             432|\n",
      "|   Charlotte Bobcats|             283|\n",
      "|Los Angeles Clippers|             430|\n",
      "|     Detroit Pistons|             414|\n",
      "|       Chicago Bulls|             437|\n",
      "|     Milwaukee Bucks|             414|\n",
      "| Cleveland Cavaliers|             452|\n",
      "|      Indiana Pacers|             434|\n",
      "|  Washington Wizards|             423|\n",
      "+--------------------+----------------+\n",
      "only showing top 20 rows\n",
      "\n"
     ]
    }
   ],
   "source": [
    "queryVisitor = \"SELECT Visitor, COUNT(Visitor) as Partidos_Visitor FROM interactions GROUP BY Visitor\"\n",
    "NPartidosVis = sqlContext.sql(queryVisitor)\n",
    "NPartidosVis.show()"
   ]
  },
  {
   "cell_type": "markdown",
   "metadata": {},
   "source": [
    "Podemos comprobar sin necesidad de sumar ambas tablas, que el número de partidos no es el mismo.\n",
    "\n",
    "Esto puede deberse al tipo eliminatoria (Playoffs por ejemplo), en el que sólo algunos se clasifican para Play-Offs y por lo tanto estos van a jugar más partidos."
   ]
  },
  {
   "cell_type": "markdown",
   "metadata": {},
   "source": [
    "## Séptima pregunta: ¿Cuantos partidos ha ganado en Enero Clevelant?"
   ]
  },
  {
   "cell_type": "markdown",
   "metadata": {},
   "source": [
    "En esta ocasión emplearemos una línea de código ya utilizada anteriormente para conocer el año, pero esta vez sacaremos la columna Month."
   ]
  },
  {
   "cell_type": "code",
   "execution_count": 15,
   "metadata": {
    "collapsed": true
   },
   "outputs": [],
   "source": [
    "interactions_df1= interactions_df.withColumn('Month', split_date.getItem(0))"
   ]
  },
  {
   "cell_type": "code",
   "execution_count": 16,
   "metadata": {
    "collapsed": false
   },
   "outputs": [
    {
     "name": "stdout",
     "output_type": "stream",
     "text": [
      "+----------+--------------------+---------+-----------+-----------+--------------------+---+-------+----+-----+\n",
      "|      Date|                Home|Pts_Local|Pts_Visitor|   Start_ET|             Visitor|dif|dif_abs|Year|Month|\n",
      "+----------+--------------------+---------+-----------+-----------+--------------------+---+-------+----+-----+\n",
      "|10/30/2007|Golden State Warr...|       96|        117|\"7 : 30 pm\"|           Utah Jazz|-21|     21|2007|   10|\n",
      "|10/30/2007|  Los Angeles Lakers|       93|         95|\"7 : 30 pm\"|     Houston Rockets| -2|      2|2007|   10|\n",
      "|10/30/2007|   San Antonio Spurs|      106|         97|\"7 : 00 pm\"|Portland Trail Bl...|  9|      9|2007|   10|\n",
      "|10/31/2007| Cleveland Cavaliers|       74|         92|\"8 : 00 pm\"|    Dallas Mavericks|-18|     18|2007|   10|\n",
      "|10/31/2007|      Denver Nuggets|      120|        103|\"8 : 30 pm\"| Seattle SuperSonics| 17|     17|2007|   10|\n",
      "|10/31/2007|      Indiana Pacers|      119|        110|\"7 : 00 pm\"|  Washington Wizards|  9|      9|2007|   10|\n",
      "|10/31/2007|   Memphis Grizzlies|      101|        104|\"7 : 00 pm\"|   San Antonio Spurs| -3|      3|2007|   10|\n",
      "|10/31/2007|     New Jersey Nets|      112|        103|\"7 : 30 pm\"|       Chicago Bulls|  9|      9|2007|   10|\n",
      "|10/31/2007| New Orleans Hornets|      104|         90|\"7 : 00 pm\"|    Sacramento Kings| 14|     14|2007|   10|\n",
      "|10/31/2007|       Orlando Magic|      102|         83|\"7 : 00 pm\"|     Milwaukee Bucks| 19|     19|2007|   10|\n",
      "|10/31/2007|     Toronto Raptors|      106|         97|\"7 : 00 pm\"|  Philadelphia 76ers|  9|      9|2007|   10|\n",
      "|11/01/2007|          Miami Heat|       80|         91|\"8 : 00 pm\"|     Detroit Pistons|-11|     11|2007|   11|\n",
      "|11/01/2007| Seattle SuperSonics|       99|        106|\"7 : 30 pm\"|        Phoenix Suns| -7|      7|2007|   11|\n",
      "|11/01/2007|           Utah Jazz|       95|        106|\"7 : 00 pm\"|     Houston Rockets|-11|     11|2007|   11|\n",
      "|11/02/2007|       Atlanta Hawks|      101|         94|\"7 : 30 pm\"|    Dallas Mavericks|  7|      7|2007|   11|\n",
      "|11/02/2007|      Boston Celtics|      103|         83|\"8 : 00 pm\"|  Washington Wizards| 20|     20|2007|   11|\n",
      "|11/02/2007|   Charlotte Bobcats|      102|         99|\"7 : 00 pm\"|     Milwaukee Bucks|  3|      3|2007|   11|\n",
      "|11/02/2007|       Chicago Bulls|       85|         96|\"7 : 30 pm\"|  Philadelphia 76ers|-11|     11|2007|   11|\n",
      "|11/02/2007| Cleveland Cavaliers|      110|        106|\"7 : 30 pm\"|     New York Knicks|  4|      4|2007|   11|\n",
      "|11/02/2007|      Indiana Pacers|       87|         85|\"7 : 00 pm\"|          Miami Heat|  2|      2|2007|   11|\n",
      "+----------+--------------------+---------+-----------+-----------+--------------------+---+-------+----+-----+\n",
      "only showing top 20 rows\n",
      "\n"
     ]
    }
   ],
   "source": [
    "interactions_df1.show()"
   ]
  },
  {
   "cell_type": "markdown",
   "metadata": {},
   "source": [
    "Actualizamos la tabla SQL, ahora pasa a llamarse interactions_df1, que incluye los campos Year y Month"
   ]
  },
  {
   "cell_type": "code",
   "execution_count": 17,
   "metadata": {
    "collapsed": true
   },
   "outputs": [],
   "source": [
    "interactions_df1 = interactions_df1.createOrReplaceTempView(\"interactions_df1\")"
   ]
  },
  {
   "cell_type": "markdown",
   "metadata": {},
   "source": [
    "Creamos dos campos; Victoria local si los puntos local superan a los visitantes. En ese caso el nuevo campo tomara el valor = 1, y hacemos lo mismo para visitantes."
   ]
  },
  {
   "cell_type": "code",
   "execution_count": 18,
   "metadata": {
    "collapsed": true
   },
   "outputs": [],
   "source": [
    "victorias_partido = sqlContext.sql(\"Select Month, Home, Visitor,IF(Pts_Local > Pts_Visitor,1,0) AS Victoria_local, IF(Pts_Visitor > Pts_Local,1,0) as Victoria_visitante FROM (SELECT * from Interactions_df1) CONSULTA\")"
   ]
  },
  {
   "cell_type": "code",
   "execution_count": 19,
   "metadata": {
    "collapsed": false
   },
   "outputs": [
    {
     "name": "stdout",
     "output_type": "stream",
     "text": [
      "+-----+--------------------+--------------------+--------------+------------------+\n",
      "|Month|                Home|             Visitor|Victoria_local|Victoria_visitante|\n",
      "+-----+--------------------+--------------------+--------------+------------------+\n",
      "|   10|Golden State Warr...|           Utah Jazz|             0|                 1|\n",
      "|   10|  Los Angeles Lakers|     Houston Rockets|             0|                 1|\n",
      "|   10|   San Antonio Spurs|Portland Trail Bl...|             1|                 0|\n",
      "|   10| Cleveland Cavaliers|    Dallas Mavericks|             0|                 1|\n",
      "|   10|      Denver Nuggets| Seattle SuperSonics|             1|                 0|\n",
      "|   10|      Indiana Pacers|  Washington Wizards|             1|                 0|\n",
      "|   10|   Memphis Grizzlies|   San Antonio Spurs|             0|                 1|\n",
      "|   10|     New Jersey Nets|       Chicago Bulls|             1|                 0|\n",
      "|   10| New Orleans Hornets|    Sacramento Kings|             1|                 0|\n",
      "|   10|       Orlando Magic|     Milwaukee Bucks|             1|                 0|\n",
      "|   10|     Toronto Raptors|  Philadelphia 76ers|             1|                 0|\n",
      "|   11|          Miami Heat|     Detroit Pistons|             0|                 1|\n",
      "|   11| Seattle SuperSonics|        Phoenix Suns|             0|                 1|\n",
      "|   11|           Utah Jazz|     Houston Rockets|             0|                 1|\n",
      "|   11|       Atlanta Hawks|    Dallas Mavericks|             1|                 0|\n",
      "|   11|      Boston Celtics|  Washington Wizards|             1|                 0|\n",
      "|   11|   Charlotte Bobcats|     Milwaukee Bucks|             1|                 0|\n",
      "|   11|       Chicago Bulls|  Philadelphia 76ers|             0|                 1|\n",
      "|   11| Cleveland Cavaliers|     New York Knicks|             1|                 0|\n",
      "|   11|      Indiana Pacers|          Miami Heat|             1|                 0|\n",
      "+-----+--------------------+--------------------+--------------+------------------+\n",
      "only showing top 20 rows\n",
      "\n"
     ]
    }
   ],
   "source": [
    "victorias_partido.show()"
   ]
  },
  {
   "cell_type": "markdown",
   "metadata": {},
   "source": [
    "Sacamos una nueva tabla a partir de la anterior con sólo los partidos del mes número 1 el cual es Enero."
   ]
  },
  {
   "cell_type": "code",
   "execution_count": 20,
   "metadata": {
    "collapsed": true
   },
   "outputs": [],
   "source": [
    "victorias_enero = victorias_partido.filter(victorias_partido.Month == 1)"
   ]
  },
  {
   "cell_type": "markdown",
   "metadata": {},
   "source": [
    "El siguiente paso a realizar es simplemete para comprobar que tiene sentido la tabla"
   ]
  },
  {
   "cell_type": "code",
   "execution_count": 21,
   "metadata": {
    "collapsed": false
   },
   "outputs": [
    {
     "name": "stdout",
     "output_type": "stream",
     "text": [
      "+-----+-------------------+--------------------+--------------+------------------+\n",
      "|Month|               Home|             Visitor|Victoria_local|Victoria_visitante|\n",
      "+-----+-------------------+--------------------+--------------+------------------+\n",
      "|   01|Cleveland Cavaliers|       Atlanta Hawks|             1|                 0|\n",
      "|   01|Cleveland Cavaliers|    Sacramento Kings|             1|                 0|\n",
      "|   01|Cleveland Cavaliers| Seattle SuperSonics|             1|                 0|\n",
      "|   01|Cleveland Cavaliers|   Charlotte Bobcats|             1|                 0|\n",
      "|   01|Cleveland Cavaliers|  Washington Wizards|             1|                 0|\n",
      "|   01|Cleveland Cavaliers|        Phoenix Suns|             0|                 1|\n",
      "|   01|Cleveland Cavaliers|       Chicago Bulls|             1|                 0|\n",
      "|   01|Cleveland Cavaliers|   Charlotte Bobcats|             1|                 0|\n",
      "|   01|Cleveland Cavaliers|      Boston Celtics|             1|                 0|\n",
      "|   01|Cleveland Cavaliers| New Orleans Hornets|             1|                 0|\n",
      "|   01|Cleveland Cavaliers|    Sacramento Kings|             1|                 0|\n",
      "|   01|Cleveland Cavaliers|Los Angeles Clippers|             1|                 0|\n",
      "|   01|Cleveland Cavaliers|   Charlotte Bobcats|             0|                 1|\n",
      "|   01|Cleveland Cavaliers|  Washington Wizards|             1|                 0|\n",
      "|   01|Cleveland Cavaliers|     Toronto Raptors|             1|                 0|\n",
      "|   01|Cleveland Cavaliers|  Los Angeles Lakers|             1|                 0|\n",
      "|   01|Cleveland Cavaliers|Oklahoma City Thu...|             1|                 0|\n",
      "|   01|Cleveland Cavaliers|Minnesota Timberw...|             1|                 0|\n",
      "|   01|Cleveland Cavaliers|Los Angeles Clippers|             1|                 0|\n",
      "|   01|Cleveland Cavaliers|    Dallas Mavericks|             0|                 1|\n",
      "+-----+-------------------+--------------------+--------------+------------------+\n",
      "only showing top 20 rows\n",
      "\n"
     ]
    }
   ],
   "source": [
    "victorias_enero.filter(victorias_enero.Home == 'Cleveland Cavaliers').show()"
   ]
  },
  {
   "cell_type": "markdown",
   "metadata": {},
   "source": [
    "Y sumarizamos por enero(mes 1) y victoria local de Cleveland y lo mismo con visitantes."
   ]
  },
  {
   "cell_type": "code",
   "execution_count": 22,
   "metadata": {
    "collapsed": false
   },
   "outputs": [
    {
     "name": "stdout",
     "output_type": "stream",
     "text": [
      "+-------------------+\n",
      "|sum(victoria_local)|\n",
      "+-------------------+\n",
      "|                 42|\n",
      "+-------------------+\n",
      "\n"
     ]
    }
   ],
   "source": [
    "victorias_enero.filter(victorias_enero.Home == 'Cleveland Cavaliers').groupBy().sum('victoria_local').show()"
   ]
  },
  {
   "cell_type": "markdown",
   "metadata": {
    "collapsed": true
   },
   "source": [
    "Aquí podemos observar que Clevelans Cavaliers tiene 42 victorias en el mes de Enero como local"
   ]
  },
  {
   "cell_type": "code",
   "execution_count": 23,
   "metadata": {
    "collapsed": false
   },
   "outputs": [
    {
     "name": "stdout",
     "output_type": "stream",
     "text": [
      "+-----------------------+\n",
      "|sum(victoria_visitante)|\n",
      "+-----------------------+\n",
      "|                     41|\n",
      "+-----------------------+\n",
      "\n"
     ]
    }
   ],
   "source": [
    "victorias_enero.filter(victorias_enero.Visitor == 'Cleveland Cavaliers').groupBy().sum('victoria_visitante').show()"
   ]
  },
  {
   "cell_type": "markdown",
   "metadata": {
    "collapsed": true
   },
   "source": [
    "y 41 como visitante en Enero"
   ]
  },
  {
   "cell_type": "code",
   "execution_count": 24,
   "metadata": {
    "collapsed": false
   },
   "outputs": [
    {
     "data": {
      "text/plain": [
       "83"
      ]
     },
     "execution_count": 24,
     "metadata": {},
     "output_type": "execute_result"
    }
   ],
   "source": [
    "42 + 41"
   ]
  },
  {
   "cell_type": "markdown",
   "metadata": {},
   "source": [
    "Podemos ver que el equipo Cleveland Cavaliers tiene un total de 83 victorias en el mes de Enero"
   ]
  },
  {
   "cell_type": "markdown",
   "metadata": {},
   "source": [
    "## Octava pregunta: ¿Los Warrios son mejores fuera de casa o en casa?"
   ]
  },
  {
   "cell_type": "markdown",
   "metadata": {},
   "source": [
    "Ya tenemos hechas las tablas del ejercicio anterior asique simplemente será cambiar la consulta:\n",
    "\n",
    "Queremos la suma de victorias de los Warriors como local:"
   ]
  },
  {
   "cell_type": "code",
   "execution_count": 25,
   "metadata": {
    "collapsed": false
   },
   "outputs": [
    {
     "name": "stdout",
     "output_type": "stream",
     "text": [
      "+-------------------+\n",
      "|sum(victoria_local)|\n",
      "+-------------------+\n",
      "|                308|\n",
      "+-------------------+\n",
      "\n"
     ]
    }
   ],
   "source": [
    "victorias_partido.filter(victorias_partido.Home == 'Golden State Warriors').groupBy().sum('victoria_local').show()"
   ]
  },
  {
   "cell_type": "code",
   "execution_count": 26,
   "metadata": {
    "collapsed": false
   },
   "outputs": [
    {
     "name": "stdout",
     "output_type": "stream",
     "text": [
      "+-----------------------+\n",
      "|sum(victoria_visitante)|\n",
      "+-----------------------+\n",
      "|                    215|\n",
      "+-----------------------+\n",
      "\n"
     ]
    }
   ],
   "source": [
    "victorias_partido.filter(victorias_partido.Visitor == 'Golden State Warriors').groupBy().sum('victoria_visitante').show()"
   ]
  },
  {
   "cell_type": "markdown",
   "metadata": {},
   "source": [
    "Y la suma de victoria de los Warriors como visitante"
   ]
  },
  {
   "cell_type": "markdown",
   "metadata": {},
   "source": [
    "Por lo tanto y respondiendo a la octava pregunta, podemos ver que los Warriors son mejores como locales con 308 victorias mientras que 215 son fuera."
   ]
  },
  {
   "cell_type": "markdown",
   "metadata": {},
   "source": [
    "## Novena pregunta: Equipo que ha quedado primerio en victorias más temporadas. (si es que hay alguno que más)"
   ]
  },
  {
   "cell_type": "code",
   "execution_count": 27,
   "metadata": {
    "collapsed": false
   },
   "outputs": [
    {
     "name": "stdout",
     "output_type": "stream",
     "text": [
      "+--------------------+-------------------+\n",
      "|                Home|sum(victoria_local)|\n",
      "+--------------------+-------------------+\n",
      "| Seattle SuperSonics|                 13|\n",
      "|   Charlotte Hornets|                 73|\n",
      "|     New Jersey Nets|                 76|\n",
      "|New Orleans Pelicans|                 92|\n",
      "|       Brooklyn Nets|                107|\n",
      "|   Charlotte Bobcats|                140|\n",
      "| New Orleans Hornets|                145|\n",
      "|Minnesota Timberw...|                148|\n",
      "|    Sacramento Kings|                172|\n",
      "|  Philadelphia 76ers|                180|\n",
      "|     New York Knicks|                200|\n",
      "|     Milwaukee Bucks|                212|\n",
      "|     Detroit Pistons|                220|\n",
      "|  Washington Wizards|                220|\n",
      "|        Phoenix Suns|                233|\n",
      "|       Orlando Magic|                243|\n",
      "|     Toronto Raptors|                244|\n",
      "|Los Angeles Clippers|                261|\n",
      "|   Memphis Grizzlies|                268|\n",
      "|           Utah Jazz|                277|\n",
      "+--------------------+-------------------+\n",
      "only showing top 20 rows\n",
      "\n"
     ]
    }
   ],
   "source": [
    "victorias_partido.groupBy('Home').sum('victoria_local').sort('sum(victoria_local)').show()"
   ]
  },
  {
   "cell_type": "code",
   "execution_count": null,
   "metadata": {
    "collapsed": true
   },
   "outputs": [],
   "source": []
  },
  {
   "cell_type": "markdown",
   "metadata": {},
   "source": [
    "## Décima pregunta: Escribe la expresión regular correcta que sólo macheen los teléfonos y el correo del siguiente texto."
   ]
  },
  {
   "cell_type": "markdown",
   "metadata": {},
   "source": [
    "Si eres cliente y necesitas información sobre tus posiciones, productos o realizar operaciones: Desde España. Desde el extranjero. Banca telefónica en castellano. Bandera castellano. 902 13 23 13. Banca telefónica en catalán. Bandera catalana. 902 88 30 08. Banca telefónica en inglés. Bandera inglesa. 902 88 88 35. O por correo electrónico a atencioncliente@bankinter.com"
   ]
  },
  {
   "cell_type": "markdown",
   "metadata": {},
   "source": [
    "Por un lado (\\d+) nos macheará los dígitos, con lo que conseguiremos los telefonos.\n",
    "\n",
    "Para el email necesitaremos la siguiente estructura(estructura de un mail estandar): texto+@]texto+punto+texto\n",
    "\n",
    "Por lo tanto la expresión regular final será la siguiente:\n",
    "\n",
    "(\\d+)|(\\w+@\\w+.\\w+)"
   ]
  },
  {
   "cell_type": "code",
   "execution_count": null,
   "metadata": {
    "collapsed": true
   },
   "outputs": [],
   "source": []
  }
 ],
 "metadata": {
  "kernelspec": {
   "display_name": "Python 3",
   "language": "python",
   "name": "python3"
  },
  "language_info": {
   "codemirror_mode": {
    "name": "ipython",
    "version": 3
   },
   "file_extension": ".py",
   "mimetype": "text/x-python",
   "name": "python",
   "nbconvert_exporter": "python",
   "pygments_lexer": "ipython3",
   "version": "3.5.2"
  }
 },
 "nbformat": 4,
 "nbformat_minor": 2
}
