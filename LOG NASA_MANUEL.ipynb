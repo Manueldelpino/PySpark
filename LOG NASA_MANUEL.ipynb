{
 "cells": [
  {
   "cell_type": "code",
   "execution_count": 1,
   "metadata": {
    "collapsed": false
   },
   "outputs": [],
   "source": [
    "#EJERCICIO DATASET LOGS NASA\n",
    "#JORGE CASAN VÁZQUEZ\n",
    "\n",
    "from pyspark import SparkContext #Todo lo necesario para trabajar con Spark, solo lo ejecutaremos una vez\n",
    "sc = SparkContext()"
   ]
  },
  {
   "cell_type": "code",
   "execution_count": 3,
   "metadata": {
    "collapsed": false
   },
   "outputs": [],
   "source": [
    "#Tenemos que descargarlo a través de nuestro Dropbox para que excede el número de megas para descargarselo en local\n",
    "import urllib.request\n",
    "f = urllib.request.urlretrieve(\"https://www.dropbox.com/s/73wr8xb5s6fdj7g/apache.access.log.PROJECT?dl=1\", \"apache.access.log.PROJECT\")"
   ]
  },
  {
   "cell_type": "code",
   "execution_count": 5,
   "metadata": {
    "collapsed": false
   },
   "outputs": [],
   "source": [
    "datos = \"./apache.access.log.PROJECT\"\n",
    "datos_raw = sc.textFile(datos) #Con esta función nos crearemos el RDD"
   ]
  },
  {
   "cell_type": "code",
   "execution_count": 6,
   "metadata": {
    "collapsed": false
   },
   "outputs": [
    {
     "data": {
      "text/plain": [
       "1043177"
      ]
     },
     "execution_count": 6,
     "metadata": {},
     "output_type": "execute_result"
    }
   ],
   "source": [
    "datos_raw.count() #Como si de un analisis exploratorio de datos se tratara"
   ]
  },
  {
   "cell_type": "code",
   "execution_count": 7,
   "metadata": {
    "collapsed": false
   },
   "outputs": [
    {
     "data": {
      "text/plain": [
       "['in24.inetnebr.com - - [01/Aug/1995:00:00:01 -0400] \"GET /shuttle/missions/sts-68/news/sts-68-mcc-05.txt HTTP/1.0\" 200 1839',\n",
       " 'uplherc.upl.com - - [01/Aug/1995:00:00:07 -0400] \"GET / HTTP/1.0\" 304 0',\n",
       " 'uplherc.upl.com - - [01/Aug/1995:00:00:08 -0400] \"GET /images/ksclogo-medium.gif HTTP/1.0\" 304 0',\n",
       " 'uplherc.upl.com - - [01/Aug/1995:00:00:08 -0400] \"GET /images/MOSAIC-logosmall.gif HTTP/1.0\" 304 0',\n",
       " 'uplherc.upl.com - - [01/Aug/1995:00:00:08 -0400] \"GET /images/USA-logosmall.gif HTTP/1.0\" 304 0']"
      ]
     },
     "execution_count": 7,
     "metadata": {},
     "output_type": "execute_result"
    }
   ],
   "source": [
    "datos_raw.take(5) #Escogemos las 5 primeras observaciones"
   ]
  },
  {
   "cell_type": "code",
   "execution_count": 9,
   "metadata": {
    "collapsed": true
   },
   "outputs": [],
   "source": [
    "datos_tratados = datos_raw.map(lambda x: x.replace(\" -\", ' 0')).map(lambda x: x.split(\" \"))\n",
    "#Es muy importante reemplazar los guiones por 0, de cara a realizar cálculos numéricos ya que los strings no son operables.\n",
    "#Lo primero que tendremos que hacer es el replace y luego con el split ya que no podremos hacer un replace porque se convierte\n",
    "#a lista, seguidamente con el split conseguimos dividir el total de las observaciones (separar las filas para poder operar)\n",
    "#Con el parseamiento de los datos los tratamos para que tengan el formato adecuado"
   ]
  },
  {
   "cell_type": "code",
   "execution_count": 10,
   "metadata": {
    "collapsed": false
   },
   "outputs": [
    {
     "name": "stdout",
     "output_type": "stream",
     "text": [
      "['in24.inetnebr.com']\n",
      "['0']\n",
      "['0']\n",
      "['[01/Aug/1995:00:00:01']\n",
      "['00400]']\n",
      "['\"GET']\n",
      "['/shuttle/missions/sts-68/news/sts-68-mcc-05.txt']\n",
      "['HTTP/1.0\"']\n",
      "['200']\n",
      "['1839']\n"
     ]
    }
   ],
   "source": [
    "#Vamos a recorrer los datos imprimiendo cada columna para ver si está todo correcto\n",
    "for i in range(0,10):\n",
    "    datos_test = datos_tratados.map(lambda x: x[i])\n",
    "    print(datos_test.take(1))\n",
    "#Tenemos 9 columnas, de la 0 hasta la 9, inclusive, y para poder tratar los datos tenemos que desmenuzar cada fila\n",
    "#por cada categoría, esto es, columnas del RDD"
   ]
  },
  {
   "cell_type": "code",
   "execution_count": 14,
   "metadata": {
    "collapsed": false
   },
   "outputs": [
    {
     "name": "stdout",
     "output_type": "stream",
     "text": [
      "Hay un maximo de 3421948 peticiones\n",
      "Hay un minimo de 0 peticiones\n",
      "Hay una media de 17531.556 peticiones\n"
     ]
    }
   ],
   "source": [
    "#### EJERCICIO 1 ######\n",
    "#Calcular el mínimo, máximo y media del tamaño de las peticiones (size)\n",
    "#Podemos transformar los datos aplicando map al dataset para obtener solo la columna deseada\n",
    "\n",
    "datos_split = datos_tratados.map(lambda x: int(x[-1])) #Accederemos a la última columna (size) y lo trataremos como un integer\n",
    "#para poder realizar los siguientes cálculos numéricos\n",
    "#En vez de que me devuelva los resultados sólo como números, prefiero que me haga un print con lo que quiero que me extraiga\n",
    "print(\"Hay un maximo de {} peticiones\".format(datos_split.max()))\n",
    "print(\"Hay un minimo de {} peticiones\".format(datos_split.min()))\n",
    "print(\"Hay una media de {} peticiones\".format(round(datos_split.mean(),3))) #Le digo que me lo redondeee a 3 decimales"
   ]
  },
  {
   "cell_type": "code",
   "execution_count": 16,
   "metadata": {
    "collapsed": false
   },
   "outputs": [
    {
     "data": {
      "text/plain": [
       "[(200, 1),\n",
       " (304, 1),\n",
       " (304, 1),\n",
       " (304, 1),\n",
       " (304, 1),\n",
       " (200, 1),\n",
       " (304, 1),\n",
       " (200, 1),\n",
       " (200, 1),\n",
       " (200, 1)]"
      ]
     },
     "execution_count": 16,
     "metadata": {},
     "output_type": "execute_result"
    }
   ],
   "source": [
    "####### EJERCICIO 2 #########\n",
    "### Numero de peticiones de cada codigo de respuesta (response_code)\n",
    "\n",
    "from operator import add #Esta es la funcion de agregación, tenemos que importarla para poder hacer el reduceByKey(add)\n",
    "response_code = datos_tratados.map(lambda y: (int(y[-2]), 1)) #1 es un integer que lo que va a hacer es un conteo de cada valor\n",
    "# y partir de aquí contaremos cuantos códigos de respuesta existen por cada fila\n",
    "response_code.take(10)"
   ]
  },
  {
   "cell_type": "code",
   "execution_count": 18,
   "metadata": {
    "collapsed": false
   },
   "outputs": [
    {
     "data": {
      "text/plain": [
       "[(501, 17),\n",
       " (500, 2),\n",
       " (404, 6185),\n",
       " (403, 58),\n",
       " (304, 79824),\n",
       " (302, 16244),\n",
       " (200, 940847)]"
      ]
     },
     "execution_count": 18,
     "metadata": {},
     "output_type": "execute_result"
    }
   ],
   "source": [
    "#la Key es el response_code y lo que hacemos es agregar cuántas existen y las juntamos a través de la función de agregación\n",
    "#SortByKey te lo ordena, por orden descendente o ascendente, en este caso, tendremos que especificarselo, ya que por defecto\n",
    "#te las ordena en forma ascendente\n",
    "#A través del comando collect () te muestra el resultado,  básicamente es una acción que te devuelve el resultado\n",
    "response_code.reduceByKey(add).sortByKey(False).collect()"
   ]
  },
  {
   "cell_type": "code",
   "execution_count": 19,
   "metadata": {
    "collapsed": false
   },
   "outputs": [
    {
     "data": {
      "text/plain": [
       "[('***.novo.dk', 16),\n",
       " ('03-dynamic-c.wokingham.luna.net', 39),\n",
       " ('05-dynamic-c.wokingham.luna.net', 25),\n",
       " ('0875pr3e.pro.rpslmc.edu', 16),\n",
       " ('1.ts1.mnet.medstroms.se', 32),\n",
       " ('10.ts2.mnet.medstroms.se', 15),\n",
       " ('101.irri.cgiar.org', 17),\n",
       " ('1032015.ksc.nasa.gov', 90),\n",
       " ('10forward.ppp.america.com', 18),\n",
       " ('10md423.uni-duisburg.de', 39),\n",
       " ('118.32.med.umich.edu', 15),\n",
       " ('12.ts2.mnet.medstroms.se', 25),\n",
       " ('120.33.med.umich.edu', 14),\n",
       " ('128.100.180.37', 15),\n",
       " ('128.100.183.252', 13),\n",
       " ('128.100.183.253', 36),\n",
       " ('128.100.191.43', 31),\n",
       " ('128.100.197.90', 16),\n",
       " ('128.100.8.177', 40),\n",
       " ('128.101.13.25', 15)]"
      ]
     },
     "execution_count": 19,
     "metadata": {},
     "output_type": "execute_result"
    }
   ],
   "source": [
    "##### EJERCICIO 3 ######\n",
    "# Mostrar 20 hosts que han sido visitados mas de 10 veces\n",
    "hosts = datos_tratados.map(lambda y: (y[0], 1))\n",
    "agrupados = hosts.reduceByKey(add).sortByKey().filter(lambda x: x[1] > 10).take(20)\n",
    "agrupados\n",
    "# Key son los host y realizando el conteo por cada fila los agrupamos y a través del filter seleccionamos aquellos que han sido\n",
    "#visitados más de 10 veces y finalmente mostraremos 20 de ellos"
   ]
  },
  {
   "cell_type": "code",
   "execution_count": 20,
   "metadata": {
    "collapsed": false
   },
   "outputs": [
    {
     "data": {
      "text/plain": [
       "[('/images/NASA-logosmall.gif', 59666),\n",
       " ('/images/KSC-logosmall.gif', 50420),\n",
       " ('/images/MOSAIC-logosmall.gif', 43831),\n",
       " ('/images/USA-logosmall.gif', 43604),\n",
       " ('/images/WORLD-logosmall.gif', 43217),\n",
       " ('/images/ksclogo-medium.gif', 41267),\n",
       " ('/ksc.html', 28536),\n",
       " ('/history/apollo/images/apollo-logo1.gif', 26766),\n",
       " ('/images/launch-logo.gif', 24742),\n",
       " ('/', 20175)]"
      ]
     },
     "execution_count": 20,
     "metadata": {},
     "output_type": "execute_result"
    }
   ],
   "source": [
    "##### EJERCICIO 4 #####\n",
    "# Mostrar los 10 endpoints mas visitados\n",
    "#Un endpoint es el último sitio que el usuario ha accedido, la cual se localiza en la columna 6, de nuevo tendremos que realizar \n",
    "#el conteo, siendo la Key el endpoint. En este caso no pondremos la sortbykey, solamente es sortby porque queremos los 10\n",
    "#endpoints más visitados\n",
    "endpoint = datos_tratados.map(lambda y: (y[6], 1))\n",
    "endpoint_agr = endpoint.reduceByKey(add).sortBy(lambda x: x[1], False).take(10)\n",
    "endpoint_agr"
   ]
  },
  {
   "cell_type": "code",
   "execution_count": 21,
   "metadata": {
    "collapsed": false
   },
   "outputs": [
    {
     "data": {
      "text/plain": [
       "[('/ksc.html', '501'),\n",
       " ('/ksc.html', '501'),\n",
       " ('/ksc.html', '501'),\n",
       " ('/ksc.html', '501'),\n",
       " ('/ksc.html', '501'),\n",
       " ('/images/getstats.gif', '501'),\n",
       " ('/ksc.html', '501'),\n",
       " ('/shuttle/missions/51-i/51-i-patch-small.gif', '501'),\n",
       " ('/shuttle/missions/sts-45/sts-45-patch-small.gif', '501'),\n",
       " ('/shuttle/missions/sts-6/sts-6-patch-small.gif', '501')]"
      ]
     },
     "execution_count": 21,
     "metadata": {},
     "output_type": "execute_result"
    }
   ],
   "source": [
    "##### EJERCICIO 5 ######\n",
    "#Mostrar los endpoints más visitados que no tienen código de respuesta igual a 200\n",
    "#La columna 6 son los endpoints y la penúltima columna son los códigos de respuesta\n",
    "#Tenemos que acceder a las columnas endpoint y response code para poder realizar posteriormente el filtrado\n",
    "endpointNO = datos_tratados.map(lambda y: (y[6], y[-2]))\n",
    "endpointNO_agr = endpointNO.sortBy(lambda x: x[1], False).filter(lambda x: x[1] != 200).take(10)\n",
    "# A través del x[1] accederemos a la columna responde code y a partir de aquí hacemos el filtrado de aquellas que no contengan el\n",
    "#código de respuesta 200\n",
    "endpointNO_agr"
   ]
  },
  {
   "cell_type": "code",
   "execution_count": 33,
   "metadata": {
    "collapsed": false
   },
   "outputs": [
    {
     "data": {
      "text/plain": [
       "54507"
      ]
     },
     "execution_count": 33,
     "metadata": {},
     "output_type": "execute_result"
    }
   ],
   "source": [
    "##### EJERCICIO 6 ######\n",
    "# Calcular el numero de hosts distintos\n",
    "#Es relativamente sencillo el comando, ya que primero seleccionamos la columna de los hosts y luego le decimos que nos muestre\n",
    "#los que son distintos para finalmente realizar el conteo\n",
    "hosts_distinct = datos_tratados.map(lambda y: y[0]).distinct().count()\n",
    "#Muestra un integer con el numero de hosts distintos\n",
    "hosts_distinct"
   ]
  },
  {
   "cell_type": "code",
   "execution_count": null,
   "metadata": {
    "collapsed": true
   },
   "outputs": [],
   "source": [
    "#Tendremos que importarnos las siguientes librerías para poder trabajar con SQL\n",
    "from pyspark.sql import Row, SQLContext\n",
    "from pyspark.sql.functions import *\n",
    "sqlContext = SQLContext(sc)"
   ]
  },
  {
   "cell_type": "code",
   "execution_count": 27,
   "metadata": {
    "collapsed": false
   },
   "outputs": [
    {
     "name": "stdout",
     "output_type": "stream",
     "text": [
      "+-----------+--------------+\n",
      "|Dia del mes|Host distintos|\n",
      "+-----------+--------------+\n",
      "|          1|          2582|\n",
      "|          3|          3222|\n",
      "|          4|          4190|\n",
      "|          5|          2502|\n",
      "|          6|          2537|\n",
      "|          7|          4106|\n",
      "|          8|          4406|\n",
      "|          9|          4317|\n",
      "|         10|          4523|\n",
      "|         11|          4346|\n",
      "|         12|          2864|\n",
      "|         13|          2650|\n",
      "|         14|          4454|\n",
      "|         15|          4214|\n",
      "|         16|          4340|\n",
      "|         17|          4385|\n",
      "|         18|          4168|\n",
      "|         19|          2550|\n",
      "|         20|          2560|\n",
      "|         21|          4134|\n",
      "+-----------+--------------+\n",
      "only showing top 20 rows\n",
      "\n"
     ]
    }
   ],
   "source": [
    "##### EJERCICIO 7 #####\n",
    "# Calcular el numero de host unicos cada dia\n",
    "\n",
    "row_data = datos_tratados.map(lambda p: Row(\n",
    "    host = p[0], \n",
    "    empty_first = int(p[1]),\n",
    "    empty_second = p[2],\n",
    "    date = p[3],\n",
    "    protocol = p[4],\n",
    "    endpoint = p[6],\n",
    "    version = p[7],\n",
    "    status_Code = int(p[-2]),\n",
    "    size = p[-1]\n",
    "    )\n",
    ")\n",
    "\n",
    "interactions_df = sqlContext.createDataFrame(row_data)\n",
    "\n",
    "newdf = interactions_df.withColumn('date', regexp_replace('date', '\\[', ''))\n",
    "#Con este comando lo que pretendemos es deshacernos del corchete, ya que no aporta valor a la información de la fecha\n",
    "#['[01/Aug/1995:00:00:01']\n",
    "newdf2 = newdf.withColumn('date', regexp_replace('date', 'Aug', '08'))\n",
    "#Con el replace lo que hacemos es sustuir el valor string August, en la columna date, como valor numérico para poder\n",
    "#realizar cálculos. En este caso nuestra BBDD solo contiene datos para Agosto, si hubieramos tenido más meses del año tendríamos\n",
    "#que haber realizado la misma operación para el resto de meses\n",
    "newdf3 = newdf2.select(from_unixtime(unix_timestamp('date', 'dd/MM/yyyy:hh:mm:ss')).alias('date'), 'host')\n",
    "#Con esta función extraemos el formato fecha y seleccionamos a su vez la columna host\n",
    "newdf4 = newdf3.na.fill(0)\n",
    "#Por si acaso rellenaremos los valores que contengan NA´s con valor 0.\n",
    "\n",
    "#Con la función dayofmonth extrae de la columna fecha el día del mes que nos encontramos y a través de la función de agregación\n",
    "#ordenaremos los host distintos por los días del mes\n",
    "newdf4.groupby(dayofmonth(\"date\").alias(\"Dia del mes\")).agg(countDistinct('host').alias('Host distintos')).sort('Dia del mes')        .show()\n"
   ]
  },
  {
   "cell_type": "code",
   "execution_count": 30,
   "metadata": {
    "collapsed": false
   },
   "outputs": [
    {
     "name": "stdout",
     "output_type": "stream",
     "text": [
      "+----------+-----------------------+\n",
      "|      Date|Peticiones_diarias_host|\n",
      "+----------+-----------------------+\n",
      "|1995-08-01|     13.166537567776917|\n",
      "|1995-08-03|     12.845127250155183|\n",
      "|1995-08-04|     14.213365155131266|\n",
      "|1995-08-05|     12.745003996802557|\n",
      "|1995-08-06|     12.777296018919984|\n",
      "|1995-08-07|     13.968582562104238|\n",
      "|1995-08-08|     13.650022696323196|\n",
      "|1995-08-09|      14.00440120454019|\n",
      "|1995-08-10|     13.540791510059695|\n",
      "|1995-08-11|     14.091578462954441|\n",
      "+----------+-----------------------+\n",
      "only showing top 10 rows\n",
      "\n"
     ]
    }
   ],
   "source": [
    "##### EJERCICIO 8 #####\n",
    "# Calcular la media de peticiones diarias por host\n",
    "\n",
    "parsed_df2 = newdf4.withColumn(\"month\", month(col(\"date\"))).withColumn(\"DayOfmonth\", dayofmonth(col(\"date\")))\n",
    "parsed_df2.createOrReplaceTempView('parsed_df2')\n",
    "#Tendremos que hacer una query en un dataframe y para ello tendremos que realizar el comando tempView\n",
    "sqlContext.sql(\"SELECT DATE(date) Date, COUNT(host)/COUNT(DISTINCT host)AS Peticiones_diarias_host FROM parsed_df2 GROUP BY  DATE(date) ORDER BY DATE(date) ASC\").show(n = 10)\n"
   ]
  },
  {
   "cell_type": "code",
   "execution_count": 22,
   "metadata": {
    "collapsed": false
   },
   "outputs": [
    {
     "data": {
      "text/plain": [
       "[('/yahoo.com', 404),\n",
       " ('/search-page.html', 404),\n",
       " ('/rlvhp.htm', 404),\n",
       " ('/shuttle/technology/images/sts-comm.jpg', 404),\n",
       " ('/history/saturn/', 404),\n",
       " ('/shuttle/missio', 404),\n",
       " ('/magazine/p08aug/08pet14.gif', 404),\n",
       " ('/count69.gif', 404),\n",
       " ('/iu.net', 404),\n",
       " ('/software/winvn/winvn.', 404),\n",
       " ('/ico', 404),\n",
       " ('/ksc.html%3A', 404),\n",
       " ('/astronaut-candidates/pub/FTPfiles/netsites.ofinterest', 404),\n",
       " ('/shuttle/missions/sts-77/mission-sts-76.html', 404),\n",
       " ('/images/rss.images', 404),\n",
       " ('/shuttle/technology/sts-newsref/sts-toc.html', 404),\n",
       " ('/history/apollo/apollo-17/images/index.gif', 404),\n",
       " ('/de/dm/dm-asd/', 404),\n",
       " ('/missions/sts-70/imiages/', 404),\n",
       " ('/shuttle/missions/sts-45/sts-45-patch-small.gif\"', 404),\n",
       " ('/byline.gif', 404),\n",
       " ('/shuttle/missions/STS-69/', 404),\n",
       " ('/shuttle/video/o-ring.jpeg', 404),\n",
       " ('/history/apollo/icons/host.gif', 404),\n",
       " ('/shuttle/missions/sts-1/sts-1-mission.html', 404),\n",
       " ('/technology/', 404),\n",
       " ('/shuttle/sts-1/sts-1-pa.jpg', 404),\n",
       " ('/shuttle/missions/missions', 404),\n",
       " ('/history/apollo/sa-4/news/', 404),\n",
       " ('/history/apollo/apollo-7/apollo-8.html', 404),\n",
       " ('/news/sci.space.policy/archive/sci-space-policy-19-jul-1994-17.txt', 404),\n",
       " ('/ksc.heml', 404),\n",
       " ('/history/apollo/apollo-13/apollo-130html', 404),\n",
       " ('/shuttle/missionssts-70/woodpecker.html', 404),\n",
       " ('/history/apollo/apollo-08/apollo-08-info.html', 404),\n",
       " ('/images/rating.gif', 404),\n",
       " ('/resources/orbiters/Endeavour.html', 404),\n",
       " ('/shuttle/countdown/mission', 404),\n",
       " ('/SHUTTLE%2CCOUNTDOWN.COM/', 404),\n",
       " ('/shuttle/missions/sts-69/mission-sts-67.html', 404)]"
      ]
     },
     "execution_count": 22,
     "metadata": {},
     "output_type": "execute_result"
    }
   ],
   "source": [
    "##### EJERCICIO 9 #####\n",
    "# Mostrar una lista de 40 endpoints distintos que generan código de respuesta 404\n",
    "endpoint_error = datos_tratados.map(lambda y: (y[6], int(y[-2])))\n",
    "endpointerror_agr = endpoint_error.reduceByKey(add).sortBy(lambda x: x[1], False).filter(lambda x: x[1] == 404).distinct().take(40)\n",
    "endpointerror_agr\n",
    "#Tendremos que seleccionar la columna endpoint y el código de respuesta.La Key es el endpoint y a partir de aquí realizaremos\n",
    "#el filtrado por el código de respuesta, por orden descendente y seleccionar aquellos que sean iguales a 404 y finalmente\n",
    "#seleccionaremos 40 de ellos a través del comando take"
   ]
  },
  {
   "cell_type": "code",
   "execution_count": 23,
   "metadata": {
    "collapsed": false
   },
   "outputs": [
    {
     "data": {
      "text/plain": [
       "[('/pub/winvn/readme.txt', 633),\n",
       " ('/pub/winvn/release.txt', 494),\n",
       " ('/shuttle/missions/STS-69/mission-STS-69.html', 430),\n",
       " ('/images/nasa-logo.gif', 319),\n",
       " ('/elv/DELTA/uncons.htm', 178),\n",
       " ('/shuttle/missions/sts-68/ksc-upclose.gif', 154),\n",
       " ('/history/apollo/sa-1/sa-1-patch-small.gif', 146),\n",
       " ('/images/crawlerway-logo.gif', 120),\n",
       " ('/://spacelink.msfc.nasa.gov', 117),\n",
       " ('/history/apollo/pad-abort-test-1/pad-abort-test-1-patch-small.gif', 100),\n",
       " ('/history/apollo/a-001/a-001-patch-small.gif', 97),\n",
       " ('/images/Nasa-logo.gif', 85),\n",
       " ('/shuttle/resources/orbiters/atlantis.gif', 63),\n",
       " ('/history/apollo/images/little-joe.jpg', 62),\n",
       " ('/images/lf-logo.gif', 59),\n",
       " ('/shuttle/resources/orbiters/discovery.gif', 56),\n",
       " ('/shuttle/resources/orbiters/challenger.gif', 54),\n",
       " ('/robots.txt', 53),\n",
       " ('/elv/new01.gif>', 43),\n",
       " ('/history/apollo/pad-abort-test-2/pad-abort-test-2-patch-small.gif', 38),\n",
       " ('/pub/', 36),\n",
       " ('/pub', 36),\n",
       " ('/history/apollo/sa-2/sa-2-patch-small.gif', 35),\n",
       " ('/history/apollo/sa-5/sa-5-patch-small.gif', 32),\n",
       " ('/software/winvn/winvn.html.', 31)]"
      ]
     },
     "execution_count": 23,
     "metadata": {},
     "output_type": "execute_result"
    }
   ],
   "source": [
    "##### EJERCICIO 10 #####\n",
    "#Mostrar el top 25 de endpoints que más códigos de respuesta 404 generan\n",
    "#Lo primero de todo tendremos que seleccionar los códigos de respuesta que sean iguales a 404y a continuación  realizaremos \n",
    "#la agregación por los endpoints que sean de los 25 primeros a través de la función sort, realizando previamente el conteo y\n",
    "#escogeremos los 25 primeros de todos ellos\n",
    "endp_filtrado = datos_tratados.filter(lambda x: int(x[-2]) == 404)\n",
    "\n",
    "endpoint_top_error = endp_filtrado.map(lambda x: (x[6], 1))\n",
    "endpointtoperror_agr = endpoint_top_error.reduceByKey(add).sortBy(lambda x: x[1], False).take(25)\n",
    "endpointtoperror_agr"
   ]
  },
  {
   "cell_type": "code",
   "execution_count": 29,
   "metadata": {
    "collapsed": false
   },
   "outputs": [
    {
     "name": "stdout",
     "output_type": "stream",
     "text": [
      "+----------------+-----+\n",
      "|dayofmonth(date)|count|\n",
      "+----------------+-----+\n",
      "|               7|  532|\n",
      "|               8|  381|\n",
      "|               6|  372|\n",
      "|               4|  346|\n",
      "|              15|  326|\n",
      "+----------------+-----+\n",
      "only showing top 5 rows\n",
      "\n"
     ]
    }
   ],
   "source": [
    "##### EJERCICIO 11 #####\n",
    "# Top 5 días que generaron código de respuesta 404\n",
    "# En primer lugar tendremos que seleccionar el campo fecha y el código de respuesta e igualar este parámetro al valor 404\n",
    "#Seguidamente tendremos que ordenarlo en orden descendente y seleccionaremos el top 5\n",
    "#En este ejercicico hemos tenido que trabajar con un dataframe\n",
    "#Por ello que los comandos a la hora de contar y ordenar los datos varían con respecto al resto de ejercicios\n",
    "newdf5 = newdf2.select(from_unixtime(unix_timestamp('date', 'dd/MM/yyyy:hh:mm:ss')).alias('date'), 'status_Code')\n",
    "\n",
    "newdf5.filter(newdf5['status_Code'] == 404).groupBy(dayofmonth('date')).count().sort(col(\"count\").desc()).show(n = 5)\n"
   ]
  }
 ],
 "metadata": {
  "kernelspec": {
   "display_name": "Python 3",
   "language": "python",
   "name": "python3"
  },
  "language_info": {
   "codemirror_mode": {
    "name": "ipython",
    "version": 3
   },
   "file_extension": ".py",
   "mimetype": "text/x-python",
   "name": "python",
   "nbconvert_exporter": "python",
   "pygments_lexer": "ipython3",
   "version": "3.5.2"
  }
 },
 "nbformat": 4,
 "nbformat_minor": 2
}
